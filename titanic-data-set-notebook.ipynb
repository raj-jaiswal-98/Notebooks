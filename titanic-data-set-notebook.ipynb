{
 "cells": [
  {
   "cell_type": "code",
   "execution_count": 1,
   "id": "60e7e5ed",
   "metadata": {
    "_cell_guid": "b1076dfc-b9ad-4769-8c92-a6c4dae69d19",
    "_uuid": "8f2839f25d086af736a60e9eeb907d3b93b6e0e5",
    "execution": {
     "iopub.execute_input": "2023-03-06T07:16:29.189221Z",
     "iopub.status.busy": "2023-03-06T07:16:29.188830Z",
     "iopub.status.idle": "2023-03-06T07:16:31.897281Z",
     "shell.execute_reply": "2023-03-06T07:16:31.896037Z"
    },
    "papermill": {
     "duration": 2.719772,
     "end_time": "2023-03-06T07:16:31.900713",
     "exception": false,
     "start_time": "2023-03-06T07:16:29.180941",
     "status": "completed"
    },
    "tags": []
   },
   "outputs": [
    {
     "name": "stdout",
     "output_type": "stream",
     "text": [
      "/kaggle/input/titanic/train.csv\n",
      "/kaggle/input/titanic/test.csv\n",
      "/kaggle/input/titanic/gender_submission.csv\n",
      "cuda\n"
     ]
    }
   ],
   "source": [
    "# This Python 3 environment comes with many helpful analytics libraries installed\n",
    "# It is defined by the kaggle/python Docker image: https://github.com/kaggle/docker-python\n",
    "# For example, here's several helpful packages to load\n",
    "\n",
    "import numpy as np # linear algebra\n",
    "import pandas as pd # data processing, CSV file I/O (e.g. pd.read_csv)\n",
    "import matplotlib.pyplot as plt\n",
    "import torch\n",
    "\n",
    "\n",
    "# Input data files are available in the read-only \"../input/\" directory\n",
    "# For example, running this (by clicking run or pressing Shift+Enter) will list all files under the input directory\n",
    "\n",
    "import os\n",
    "for dirname, _, filenames in os.walk('/kaggle/input'):\n",
    "    for filename in filenames:\n",
    "        print(os.path.join(dirname, filename))\n",
    "\n",
    "# You can write up to 20GB to the current directory (/kaggle/working/) that gets preserved as output when you create a version using \"Save & Run All\" \n",
    "# You can also write temporary files to /kaggle/temp/, but they won't be saved outside of the current session\n",
    "\n",
    "device = torch.device('cuda' if torch.cuda.is_available() else 'cpu')\n",
    "print(device)"
   ]
  },
  {
   "cell_type": "code",
   "execution_count": 2,
   "id": "3a9635dd",
   "metadata": {
    "execution": {
     "iopub.execute_input": "2023-03-06T07:16:31.914598Z",
     "iopub.status.busy": "2023-03-06T07:16:31.914153Z",
     "iopub.status.idle": "2023-03-06T07:16:31.953240Z",
     "shell.execute_reply": "2023-03-06T07:16:31.952134Z"
    },
    "papermill": {
     "duration": 0.04802,
     "end_time": "2023-03-06T07:16:31.955366",
     "exception": false,
     "start_time": "2023-03-06T07:16:31.907346",
     "status": "completed"
    },
    "tags": []
   },
   "outputs": [
    {
     "data": {
      "text/html": [
       "<div>\n",
       "<style scoped>\n",
       "    .dataframe tbody tr th:only-of-type {\n",
       "        vertical-align: middle;\n",
       "    }\n",
       "\n",
       "    .dataframe tbody tr th {\n",
       "        vertical-align: top;\n",
       "    }\n",
       "\n",
       "    .dataframe thead th {\n",
       "        text-align: right;\n",
       "    }\n",
       "</style>\n",
       "<table border=\"1\" class=\"dataframe\">\n",
       "  <thead>\n",
       "    <tr style=\"text-align: right;\">\n",
       "      <th></th>\n",
       "      <th>PassengerId</th>\n",
       "      <th>Survived</th>\n",
       "    </tr>\n",
       "  </thead>\n",
       "  <tbody>\n",
       "    <tr>\n",
       "      <th>0</th>\n",
       "      <td>1</td>\n",
       "      <td>0</td>\n",
       "    </tr>\n",
       "    <tr>\n",
       "      <th>1</th>\n",
       "      <td>2</td>\n",
       "      <td>1</td>\n",
       "    </tr>\n",
       "    <tr>\n",
       "      <th>2</th>\n",
       "      <td>3</td>\n",
       "      <td>1</td>\n",
       "    </tr>\n",
       "    <tr>\n",
       "      <th>3</th>\n",
       "      <td>4</td>\n",
       "      <td>1</td>\n",
       "    </tr>\n",
       "    <tr>\n",
       "      <th>4</th>\n",
       "      <td>5</td>\n",
       "      <td>0</td>\n",
       "    </tr>\n",
       "  </tbody>\n",
       "</table>\n",
       "</div>"
      ],
      "text/plain": [
       "   PassengerId  Survived\n",
       "0            1         0\n",
       "1            2         1\n",
       "2            3         1\n",
       "3            4         1\n",
       "4            5         0"
      ]
     },
     "execution_count": 2,
     "metadata": {},
     "output_type": "execute_result"
    }
   ],
   "source": [
    "# data = pd.read_csv('/kaggle/input/titanic/gender_submission.csv')\n",
    "data = pd.read_csv('/kaggle/input/titanic/train.csv')\n",
    "# # data.head()\n",
    "numerical_data_colums = ['PassengerId', 'Pclass', 'Sex', 'Age', 'SibSp', 'Parch', 'Fare', 'Embarked', 'Survived']\n",
    "# out_y = ['Survived']\n",
    "data = data.loc[:, numerical_data_colums]\n",
    "out_y = data.loc[:, ['PassengerId', 'Survived']]\n",
    "out_y.head()\n",
    "# data.head()"
   ]
  },
  {
   "cell_type": "markdown",
   "id": "2d71022b",
   "metadata": {
    "papermill": {
     "duration": 0.005392,
     "end_time": "2023-03-06T07:16:31.966251",
     "exception": false,
     "start_time": "2023-03-06T07:16:31.960859",
     "status": "completed"
    },
    "tags": []
   },
   "source": [
    "features\n",
    "* Pclass 1, 2, 3\n",
    "* Sex 0, 1\n",
    "* Age\n",
    "* Fare"
   ]
  },
  {
   "cell_type": "markdown",
   "id": "0b5cd4a7",
   "metadata": {
    "papermill": {
     "duration": 0.005338,
     "end_time": "2023-03-06T07:16:31.976962",
     "exception": false,
     "start_time": "2023-03-06T07:16:31.971624",
     "status": "completed"
    },
    "tags": []
   },
   "source": [
    "Convert sex and Emberked Column to numerical"
   ]
  },
  {
   "cell_type": "markdown",
   "id": "e612bf10",
   "metadata": {
    "papermill": {
     "duration": 0.005317,
     "end_time": "2023-03-06T07:16:31.987858",
     "exception": false,
     "start_time": "2023-03-06T07:16:31.982541",
     "status": "completed"
    },
    "tags": []
   },
   "source": [
    "removing the rows which have incomlete data entries"
   ]
  },
  {
   "cell_type": "code",
   "execution_count": 3,
   "id": "92ff7734",
   "metadata": {
    "execution": {
     "iopub.execute_input": "2023-03-06T07:16:32.000379Z",
     "iopub.status.busy": "2023-03-06T07:16:32.000068Z",
     "iopub.status.idle": "2023-03-06T07:16:32.029966Z",
     "shell.execute_reply": "2023-03-06T07:16:32.028617Z"
    },
    "papermill": {
     "duration": 0.04171,
     "end_time": "2023-03-06T07:16:32.035140",
     "exception": false,
     "start_time": "2023-03-06T07:16:31.993430",
     "status": "completed"
    },
    "tags": []
   },
   "outputs": [
    {
     "name": "stdout",
     "output_type": "stream",
     "text": [
      "PassengerId      0\n",
      "Pclass           0\n",
      "Sex              0\n",
      "Age            177\n",
      "SibSp            0\n",
      "Parch            0\n",
      "Fare             0\n",
      "Embarked         2\n",
      "Survived         0\n",
      "dtype: int64\n",
      "PassengerId    0\n",
      "Pclass         0\n",
      "Sex            0\n",
      "Age            0\n",
      "SibSp          0\n",
      "Parch          0\n",
      "Fare           0\n",
      "Embarked       2\n",
      "Survived       0\n",
      "dtype: int64\n"
     ]
    },
    {
     "name": "stderr",
     "output_type": "stream",
     "text": [
      "/opt/conda/lib/python3.7/site-packages/ipykernel_launcher.py:3: FutureWarning: Dropping of nuisance columns in DataFrame reductions (with 'numeric_only=None') is deprecated; in a future version this will raise TypeError.  Select only valid columns before calling the reduction.\n",
      "  This is separate from the ipykernel package so we can avoid doing imports until\n"
     ]
    },
    {
     "data": {
      "text/html": [
       "<div>\n",
       "<style scoped>\n",
       "    .dataframe tbody tr th:only-of-type {\n",
       "        vertical-align: middle;\n",
       "    }\n",
       "\n",
       "    .dataframe tbody tr th {\n",
       "        vertical-align: top;\n",
       "    }\n",
       "\n",
       "    .dataframe thead th {\n",
       "        text-align: right;\n",
       "    }\n",
       "</style>\n",
       "<table border=\"1\" class=\"dataframe\">\n",
       "  <thead>\n",
       "    <tr style=\"text-align: right;\">\n",
       "      <th></th>\n",
       "      <th>PassengerId</th>\n",
       "      <th>Pclass</th>\n",
       "      <th>Sex</th>\n",
       "      <th>Age</th>\n",
       "      <th>SibSp</th>\n",
       "      <th>Parch</th>\n",
       "      <th>Fare</th>\n",
       "      <th>Embarked</th>\n",
       "      <th>Survived</th>\n",
       "    </tr>\n",
       "  </thead>\n",
       "  <tbody>\n",
       "    <tr>\n",
       "      <th>0</th>\n",
       "      <td>1</td>\n",
       "      <td>3</td>\n",
       "      <td>male</td>\n",
       "      <td>22.0</td>\n",
       "      <td>1</td>\n",
       "      <td>0</td>\n",
       "      <td>7.2500</td>\n",
       "      <td>S</td>\n",
       "      <td>0</td>\n",
       "    </tr>\n",
       "    <tr>\n",
       "      <th>1</th>\n",
       "      <td>2</td>\n",
       "      <td>1</td>\n",
       "      <td>female</td>\n",
       "      <td>38.0</td>\n",
       "      <td>1</td>\n",
       "      <td>0</td>\n",
       "      <td>71.2833</td>\n",
       "      <td>C</td>\n",
       "      <td>1</td>\n",
       "    </tr>\n",
       "    <tr>\n",
       "      <th>2</th>\n",
       "      <td>3</td>\n",
       "      <td>3</td>\n",
       "      <td>female</td>\n",
       "      <td>26.0</td>\n",
       "      <td>0</td>\n",
       "      <td>0</td>\n",
       "      <td>7.9250</td>\n",
       "      <td>S</td>\n",
       "      <td>1</td>\n",
       "    </tr>\n",
       "    <tr>\n",
       "      <th>3</th>\n",
       "      <td>4</td>\n",
       "      <td>1</td>\n",
       "      <td>female</td>\n",
       "      <td>35.0</td>\n",
       "      <td>1</td>\n",
       "      <td>0</td>\n",
       "      <td>53.1000</td>\n",
       "      <td>S</td>\n",
       "      <td>1</td>\n",
       "    </tr>\n",
       "    <tr>\n",
       "      <th>4</th>\n",
       "      <td>5</td>\n",
       "      <td>3</td>\n",
       "      <td>male</td>\n",
       "      <td>35.0</td>\n",
       "      <td>0</td>\n",
       "      <td>0</td>\n",
       "      <td>8.0500</td>\n",
       "      <td>S</td>\n",
       "      <td>0</td>\n",
       "    </tr>\n",
       "    <tr>\n",
       "      <th>...</th>\n",
       "      <td>...</td>\n",
       "      <td>...</td>\n",
       "      <td>...</td>\n",
       "      <td>...</td>\n",
       "      <td>...</td>\n",
       "      <td>...</td>\n",
       "      <td>...</td>\n",
       "      <td>...</td>\n",
       "      <td>...</td>\n",
       "    </tr>\n",
       "    <tr>\n",
       "      <th>886</th>\n",
       "      <td>887</td>\n",
       "      <td>2</td>\n",
       "      <td>male</td>\n",
       "      <td>27.0</td>\n",
       "      <td>0</td>\n",
       "      <td>0</td>\n",
       "      <td>13.0000</td>\n",
       "      <td>S</td>\n",
       "      <td>0</td>\n",
       "    </tr>\n",
       "    <tr>\n",
       "      <th>887</th>\n",
       "      <td>888</td>\n",
       "      <td>1</td>\n",
       "      <td>female</td>\n",
       "      <td>19.0</td>\n",
       "      <td>0</td>\n",
       "      <td>0</td>\n",
       "      <td>30.0000</td>\n",
       "      <td>S</td>\n",
       "      <td>1</td>\n",
       "    </tr>\n",
       "    <tr>\n",
       "      <th>888</th>\n",
       "      <td>889</td>\n",
       "      <td>3</td>\n",
       "      <td>female</td>\n",
       "      <td>28.0</td>\n",
       "      <td>1</td>\n",
       "      <td>2</td>\n",
       "      <td>23.4500</td>\n",
       "      <td>S</td>\n",
       "      <td>0</td>\n",
       "    </tr>\n",
       "    <tr>\n",
       "      <th>889</th>\n",
       "      <td>890</td>\n",
       "      <td>1</td>\n",
       "      <td>male</td>\n",
       "      <td>26.0</td>\n",
       "      <td>0</td>\n",
       "      <td>0</td>\n",
       "      <td>30.0000</td>\n",
       "      <td>C</td>\n",
       "      <td>1</td>\n",
       "    </tr>\n",
       "    <tr>\n",
       "      <th>890</th>\n",
       "      <td>891</td>\n",
       "      <td>3</td>\n",
       "      <td>male</td>\n",
       "      <td>32.0</td>\n",
       "      <td>0</td>\n",
       "      <td>0</td>\n",
       "      <td>7.7500</td>\n",
       "      <td>Q</td>\n",
       "      <td>0</td>\n",
       "    </tr>\n",
       "  </tbody>\n",
       "</table>\n",
       "<p>891 rows × 9 columns</p>\n",
       "</div>"
      ],
      "text/plain": [
       "     PassengerId  Pclass     Sex   Age  SibSp  Parch     Fare Embarked  \\\n",
       "0              1       3    male  22.0      1      0   7.2500        S   \n",
       "1              2       1  female  38.0      1      0  71.2833        C   \n",
       "2              3       3  female  26.0      0      0   7.9250        S   \n",
       "3              4       1  female  35.0      1      0  53.1000        S   \n",
       "4              5       3    male  35.0      0      0   8.0500        S   \n",
       "..           ...     ...     ...   ...    ...    ...      ...      ...   \n",
       "886          887       2    male  27.0      0      0  13.0000        S   \n",
       "887          888       1  female  19.0      0      0  30.0000        S   \n",
       "888          889       3  female  28.0      1      2  23.4500        S   \n",
       "889          890       1    male  26.0      0      0  30.0000        C   \n",
       "890          891       3    male  32.0      0      0   7.7500        Q   \n",
       "\n",
       "     Survived  \n",
       "0           0  \n",
       "1           1  \n",
       "2           1  \n",
       "3           1  \n",
       "4           0  \n",
       "..        ...  \n",
       "886         0  \n",
       "887         1  \n",
       "888         0  \n",
       "889         1  \n",
       "890         0  \n",
       "\n",
       "[891 rows x 9 columns]"
      ]
     },
     "execution_count": 3,
     "metadata": {},
     "output_type": "execute_result"
    }
   ],
   "source": [
    "print(data.isnull().sum())\n",
    "# data.dropna(inplace=True)\n",
    "data.fillna(data.median(), inplace = True)\n",
    "print(data.isnull().sum())\n",
    "data"
   ]
  },
  {
   "cell_type": "code",
   "execution_count": 4,
   "id": "7581f49d",
   "metadata": {
    "execution": {
     "iopub.execute_input": "2023-03-06T07:16:32.048733Z",
     "iopub.status.busy": "2023-03-06T07:16:32.047995Z",
     "iopub.status.idle": "2023-03-06T07:16:32.056721Z",
     "shell.execute_reply": "2023-03-06T07:16:32.055659Z"
    },
    "papermill": {
     "duration": 0.017651,
     "end_time": "2023-03-06T07:16:32.058716",
     "exception": false,
     "start_time": "2023-03-06T07:16:32.041065",
     "status": "completed"
    },
    "tags": []
   },
   "outputs": [
    {
     "data": {
      "text/plain": [
       "0    0\n",
       "1    1\n",
       "2    1\n",
       "3    1\n",
       "4    0\n",
       "Name: Survived, dtype: int64"
      ]
     },
     "execution_count": 4,
     "metadata": {},
     "output_type": "execute_result"
    }
   ],
   "source": [
    "data_colums = ['Pclass', 'Sex', 'Age', 'SibSp', 'Parch', 'Fare', 'Embarked']\n",
    "\n",
    "out_y = data.loc[:, 'Survived']\n",
    "x = data.loc[:, data_colums]\n",
    "out_y.head()"
   ]
  },
  {
   "cell_type": "code",
   "execution_count": 5,
   "id": "273d00b7",
   "metadata": {
    "execution": {
     "iopub.execute_input": "2023-03-06T07:16:32.072207Z",
     "iopub.status.busy": "2023-03-06T07:16:32.071381Z",
     "iopub.status.idle": "2023-03-06T07:16:32.083334Z",
     "shell.execute_reply": "2023-03-06T07:16:32.082139Z"
    },
    "papermill": {
     "duration": 0.020796,
     "end_time": "2023-03-06T07:16:32.085436",
     "exception": false,
     "start_time": "2023-03-06T07:16:32.064640",
     "status": "completed"
    },
    "tags": []
   },
   "outputs": [
    {
     "data": {
      "text/html": [
       "<div>\n",
       "<style scoped>\n",
       "    .dataframe tbody tr th:only-of-type {\n",
       "        vertical-align: middle;\n",
       "    }\n",
       "\n",
       "    .dataframe tbody tr th {\n",
       "        vertical-align: top;\n",
       "    }\n",
       "\n",
       "    .dataframe thead th {\n",
       "        text-align: right;\n",
       "    }\n",
       "</style>\n",
       "<table border=\"1\" class=\"dataframe\">\n",
       "  <thead>\n",
       "    <tr style=\"text-align: right;\">\n",
       "      <th></th>\n",
       "      <th>Pclass</th>\n",
       "      <th>Sex</th>\n",
       "      <th>Age</th>\n",
       "      <th>SibSp</th>\n",
       "      <th>Parch</th>\n",
       "      <th>Fare</th>\n",
       "      <th>Embarked</th>\n",
       "    </tr>\n",
       "  </thead>\n",
       "  <tbody>\n",
       "    <tr>\n",
       "      <th>0</th>\n",
       "      <td>3</td>\n",
       "      <td>male</td>\n",
       "      <td>22.0</td>\n",
       "      <td>1</td>\n",
       "      <td>0</td>\n",
       "      <td>7.2500</td>\n",
       "      <td>S</td>\n",
       "    </tr>\n",
       "    <tr>\n",
       "      <th>1</th>\n",
       "      <td>1</td>\n",
       "      <td>female</td>\n",
       "      <td>38.0</td>\n",
       "      <td>1</td>\n",
       "      <td>0</td>\n",
       "      <td>71.2833</td>\n",
       "      <td>C</td>\n",
       "    </tr>\n",
       "    <tr>\n",
       "      <th>2</th>\n",
       "      <td>3</td>\n",
       "      <td>female</td>\n",
       "      <td>26.0</td>\n",
       "      <td>0</td>\n",
       "      <td>0</td>\n",
       "      <td>7.9250</td>\n",
       "      <td>S</td>\n",
       "    </tr>\n",
       "    <tr>\n",
       "      <th>3</th>\n",
       "      <td>1</td>\n",
       "      <td>female</td>\n",
       "      <td>35.0</td>\n",
       "      <td>1</td>\n",
       "      <td>0</td>\n",
       "      <td>53.1000</td>\n",
       "      <td>S</td>\n",
       "    </tr>\n",
       "    <tr>\n",
       "      <th>4</th>\n",
       "      <td>3</td>\n",
       "      <td>male</td>\n",
       "      <td>35.0</td>\n",
       "      <td>0</td>\n",
       "      <td>0</td>\n",
       "      <td>8.0500</td>\n",
       "      <td>S</td>\n",
       "    </tr>\n",
       "  </tbody>\n",
       "</table>\n",
       "</div>"
      ],
      "text/plain": [
       "   Pclass     Sex   Age  SibSp  Parch     Fare Embarked\n",
       "0       3    male  22.0      1      0   7.2500        S\n",
       "1       1  female  38.0      1      0  71.2833        C\n",
       "2       3  female  26.0      0      0   7.9250        S\n",
       "3       1  female  35.0      1      0  53.1000        S\n",
       "4       3    male  35.0      0      0   8.0500        S"
      ]
     },
     "execution_count": 5,
     "metadata": {},
     "output_type": "execute_result"
    }
   ],
   "source": [
    "x.head()"
   ]
  },
  {
   "cell_type": "markdown",
   "id": "d8a88d27",
   "metadata": {
    "papermill": {
     "duration": 0.006064,
     "end_time": "2023-03-06T07:16:32.097561",
     "exception": false,
     "start_time": "2023-03-06T07:16:32.091497",
     "status": "completed"
    },
    "tags": []
   },
   "source": [
    "Normalize age and fare and convert string data values to numerical"
   ]
  },
  {
   "cell_type": "code",
   "execution_count": 6,
   "id": "4de69707",
   "metadata": {
    "execution": {
     "iopub.execute_input": "2023-03-06T07:16:32.111400Z",
     "iopub.status.busy": "2023-03-06T07:16:32.110546Z",
     "iopub.status.idle": "2023-03-06T07:16:32.117406Z",
     "shell.execute_reply": "2023-03-06T07:16:32.116540Z"
    },
    "papermill": {
     "duration": 0.015786,
     "end_time": "2023-03-06T07:16:32.119472",
     "exception": false,
     "start_time": "2023-03-06T07:16:32.103686",
     "status": "completed"
    },
    "tags": []
   },
   "outputs": [],
   "source": [
    "\n",
    "def sex_to_index(lst):\n",
    "#     f = []\n",
    "#     for i in lst:\n",
    "#         if i == 'male':\n",
    "#             f.append(1)\n",
    "#         else:\n",
    "#             f.append(2)\n",
    "    if lst == 'male':\n",
    "        return 1\n",
    "    else:\n",
    "        return 2\n",
    "\n",
    "def embarked_to_index(i):\n",
    "    if i == 'S':\n",
    "        return 1\n",
    "    elif i == 'C':\n",
    "        return 2\n",
    "    else:\n",
    "        return 3\n",
    "def normalize_age(age):\n",
    "    mu = age.mean()\n",
    "    sigma = age.std()\n",
    "    return (age-mu)/sigma\n",
    "def normalize_fare(fare):\n",
    "    mu = fare.mean()\n",
    "    sigma = fare.std()\n",
    "    return (fare-mu)/sigma\n",
    "        "
   ]
  },
  {
   "cell_type": "code",
   "execution_count": 7,
   "id": "664e9e05",
   "metadata": {
    "execution": {
     "iopub.execute_input": "2023-03-06T07:16:32.133316Z",
     "iopub.status.busy": "2023-03-06T07:16:32.132496Z",
     "iopub.status.idle": "2023-03-06T07:16:32.148698Z",
     "shell.execute_reply": "2023-03-06T07:16:32.147637Z"
    },
    "papermill": {
     "duration": 0.025303,
     "end_time": "2023-03-06T07:16:32.150878",
     "exception": false,
     "start_time": "2023-03-06T07:16:32.125575",
     "status": "completed"
    },
    "tags": []
   },
   "outputs": [
    {
     "data": {
      "text/html": [
       "<div>\n",
       "<style scoped>\n",
       "    .dataframe tbody tr th:only-of-type {\n",
       "        vertical-align: middle;\n",
       "    }\n",
       "\n",
       "    .dataframe tbody tr th {\n",
       "        vertical-align: top;\n",
       "    }\n",
       "\n",
       "    .dataframe thead th {\n",
       "        text-align: right;\n",
       "    }\n",
       "</style>\n",
       "<table border=\"1\" class=\"dataframe\">\n",
       "  <thead>\n",
       "    <tr style=\"text-align: right;\">\n",
       "      <th></th>\n",
       "      <th>Pclass</th>\n",
       "      <th>Sex</th>\n",
       "      <th>Age</th>\n",
       "      <th>SibSp</th>\n",
       "      <th>Parch</th>\n",
       "      <th>Fare</th>\n",
       "      <th>Embarked</th>\n",
       "    </tr>\n",
       "  </thead>\n",
       "  <tbody>\n",
       "    <tr>\n",
       "      <th>0</th>\n",
       "      <td>3</td>\n",
       "      <td>1</td>\n",
       "      <td>-0.565419</td>\n",
       "      <td>1</td>\n",
       "      <td>0</td>\n",
       "      <td>-0.502163</td>\n",
       "      <td>1</td>\n",
       "    </tr>\n",
       "    <tr>\n",
       "      <th>1</th>\n",
       "      <td>1</td>\n",
       "      <td>2</td>\n",
       "      <td>0.663488</td>\n",
       "      <td>1</td>\n",
       "      <td>0</td>\n",
       "      <td>0.786404</td>\n",
       "      <td>2</td>\n",
       "    </tr>\n",
       "    <tr>\n",
       "      <th>2</th>\n",
       "      <td>3</td>\n",
       "      <td>2</td>\n",
       "      <td>-0.258192</td>\n",
       "      <td>0</td>\n",
       "      <td>0</td>\n",
       "      <td>-0.488580</td>\n",
       "      <td>1</td>\n",
       "    </tr>\n",
       "    <tr>\n",
       "      <th>3</th>\n",
       "      <td>1</td>\n",
       "      <td>2</td>\n",
       "      <td>0.433068</td>\n",
       "      <td>1</td>\n",
       "      <td>0</td>\n",
       "      <td>0.420494</td>\n",
       "      <td>1</td>\n",
       "    </tr>\n",
       "    <tr>\n",
       "      <th>4</th>\n",
       "      <td>3</td>\n",
       "      <td>1</td>\n",
       "      <td>0.433068</td>\n",
       "      <td>0</td>\n",
       "      <td>0</td>\n",
       "      <td>-0.486064</td>\n",
       "      <td>1</td>\n",
       "    </tr>\n",
       "  </tbody>\n",
       "</table>\n",
       "</div>"
      ],
      "text/plain": [
       "   Pclass  Sex       Age  SibSp  Parch      Fare  Embarked\n",
       "0       3    1 -0.565419      1      0 -0.502163         1\n",
       "1       1    2  0.663488      1      0  0.786404         2\n",
       "2       3    2 -0.258192      0      0 -0.488580         1\n",
       "3       1    2  0.433068      1      0  0.420494         1\n",
       "4       3    1  0.433068      0      0 -0.486064         1"
      ]
     },
     "execution_count": 7,
     "metadata": {},
     "output_type": "execute_result"
    }
   ],
   "source": [
    "x.head()\n",
    "x['Sex'] = x['Sex'].apply(sex_to_index)\n",
    "x['Embarked'] = x['Embarked'].apply(embarked_to_index)\n",
    "x['Age'] = normalize_age(x['Age'])\n",
    "x['Fare'] = normalize_fare(x['Fare'])\n",
    "x.head()"
   ]
  },
  {
   "cell_type": "code",
   "execution_count": 8,
   "id": "23176cb5",
   "metadata": {
    "execution": {
     "iopub.execute_input": "2023-03-06T07:16:32.165330Z",
     "iopub.status.busy": "2023-03-06T07:16:32.164557Z",
     "iopub.status.idle": "2023-03-06T07:16:32.170667Z",
     "shell.execute_reply": "2023-03-06T07:16:32.169608Z"
    },
    "papermill": {
     "duration": 0.015399,
     "end_time": "2023-03-06T07:16:32.172887",
     "exception": false,
     "start_time": "2023-03-06T07:16:32.157488",
     "status": "completed"
    },
    "tags": []
   },
   "outputs": [
    {
     "data": {
      "text/plain": [
       "(891, 7)"
      ]
     },
     "execution_count": 8,
     "metadata": {},
     "output_type": "execute_result"
    }
   ],
   "source": [
    "np.shape(x)"
   ]
  },
  {
   "cell_type": "markdown",
   "id": "cf460c19",
   "metadata": {
    "papermill": {
     "duration": 0.006657,
     "end_time": "2023-03-06T07:16:32.185996",
     "exception": false,
     "start_time": "2023-03-06T07:16:32.179339",
     "status": "completed"
    },
    "tags": []
   },
   "source": [
    "x -> features (7 colums)\n",
    "out_y -> given output\n",
    "w -> 7 x 1\n",
    "ToDo: \n",
    "f = wx + b\n",
    "\n",
    "\n",
    "z = sigmoid(f(x))\n"
   ]
  },
  {
   "cell_type": "code",
   "execution_count": null,
   "id": "f8d12ec2",
   "metadata": {
    "papermill": {
     "duration": 0.006131,
     "end_time": "2023-03-06T07:16:32.198535",
     "exception": false,
     "start_time": "2023-03-06T07:16:32.192404",
     "status": "completed"
    },
    "tags": []
   },
   "outputs": [],
   "source": []
  },
  {
   "cell_type": "code",
   "execution_count": 9,
   "id": "f67c660f",
   "metadata": {
    "execution": {
     "iopub.execute_input": "2023-03-06T07:16:32.212471Z",
     "iopub.status.busy": "2023-03-06T07:16:32.212186Z",
     "iopub.status.idle": "2023-03-06T07:16:32.217215Z",
     "shell.execute_reply": "2023-03-06T07:16:32.216230Z"
    },
    "papermill": {
     "duration": 0.014287,
     "end_time": "2023-03-06T07:16:32.219217",
     "exception": false,
     "start_time": "2023-03-06T07:16:32.204930",
     "status": "completed"
    },
    "tags": []
   },
   "outputs": [],
   "source": [
    "def sigmoid(val):\n",
    "    val = np.exp(-val)\n",
    "    val += 1\n",
    "    val = 1/val\n",
    "    return val\n",
    "#signoid funciton\n",
    "\n",
    "def activation(val):\n",
    "    if val >= 0.5:\n",
    "        return 1\n",
    "    else:\n",
    "        return 0"
   ]
  },
  {
   "cell_type": "code",
   "execution_count": 10,
   "id": "ac50624a",
   "metadata": {
    "execution": {
     "iopub.execute_input": "2023-03-06T07:16:32.233513Z",
     "iopub.status.busy": "2023-03-06T07:16:32.232659Z",
     "iopub.status.idle": "2023-03-06T07:16:32.237471Z",
     "shell.execute_reply": "2023-03-06T07:16:32.236442Z"
    },
    "papermill": {
     "duration": 0.013947,
     "end_time": "2023-03-06T07:16:32.239502",
     "exception": false,
     "start_time": "2023-03-06T07:16:32.225555",
     "status": "completed"
    },
    "tags": []
   },
   "outputs": [],
   "source": [
    "def f(w, x, b):\n",
    "    t = np.dot(x, w) + b\n",
    "    t = sigmoid(t)\n",
    "#     t = np.round(t)\n",
    "#     print(t)\n",
    "    #     for i,_ in enumerate(t):\n",
    "#         t[i] = activation(t[i])\n",
    "    return t"
   ]
  },
  {
   "cell_type": "markdown",
   "id": "97e6319a",
   "metadata": {
    "papermill": {
     "duration": 0.006152,
     "end_time": "2023-03-06T07:16:32.251954",
     "exception": false,
     "start_time": "2023-03-06T07:16:32.245802",
     "status": "completed"
    },
    "tags": []
   },
   "source": [
    "training code"
   ]
  },
  {
   "cell_type": "code",
   "execution_count": 11,
   "id": "a8910299",
   "metadata": {
    "execution": {
     "iopub.execute_input": "2023-03-06T07:16:32.266516Z",
     "iopub.status.busy": "2023-03-06T07:16:32.265716Z",
     "iopub.status.idle": "2023-03-06T07:16:32.274377Z",
     "shell.execute_reply": "2023-03-06T07:16:32.273340Z"
    },
    "papermill": {
     "duration": 0.017835,
     "end_time": "2023-03-06T07:16:32.276375",
     "exception": false,
     "start_time": "2023-03-06T07:16:32.258540",
     "status": "completed"
    },
    "tags": []
   },
   "outputs": [],
   "source": [
    "def train(w, x, b, y, alpha = 0.005):\n",
    "    m = len(y)\n",
    "    epsilon = 1e-6\n",
    "    previos_err = 0\n",
    "    iii= 0\n",
    "    while True:\n",
    "        h = f(w, x, b)\n",
    "#         if(np.count_nonzero(h) != len(h)):\n",
    "#             print('oops')\n",
    "        J = np.sum(np.dot(y, np.log(h)) + np.dot(1-y, np.log(1-h)))\n",
    "        J /= -m\n",
    "        dj_dw = np.dot(x.T, h-y)\n",
    "        dj_db = np.sum(h-y)\n",
    "        w -= alpha * dj_dw / m\n",
    "        b -= alpha * dj_db / m\n",
    "        if iii % 100 == 0:\n",
    "            print(\"Cost: \" + str(J))\n",
    "        if abs(previos_err-J) <= epsilon:\n",
    "            break\n",
    "        previos_err = J\n",
    "        iii += 1\n",
    "    return w, b"
   ]
  },
  {
   "cell_type": "markdown",
   "id": "d06b0e36",
   "metadata": {
    "papermill": {
     "duration": 0.006371,
     "end_time": "2023-03-06T07:16:32.289219",
     "exception": false,
     "start_time": "2023-03-06T07:16:32.282848",
     "status": "completed"
    },
    "tags": []
   },
   "source": [
    "Training cell"
   ]
  },
  {
   "cell_type": "code",
   "execution_count": 12,
   "id": "88366b5a",
   "metadata": {
    "execution": {
     "iopub.execute_input": "2023-03-06T07:16:32.303299Z",
     "iopub.status.busy": "2023-03-06T07:16:32.303006Z",
     "iopub.status.idle": "2023-03-06T07:16:35.030830Z",
     "shell.execute_reply": "2023-03-06T07:16:35.029618Z"
    },
    "papermill": {
     "duration": 2.737546,
     "end_time": "2023-03-06T07:16:35.033273",
     "exception": false,
     "start_time": "2023-03-06T07:16:32.295727",
     "status": "completed"
    },
    "tags": []
   },
   "outputs": [
    {
     "name": "stdout",
     "output_type": "stream",
     "text": [
      "Cost: 3.533118020476578\n",
      "Cost: 0.5275536650485417\n",
      "Cost: 0.48017440573191994\n",
      "Cost: 0.46278000185688584\n",
      "Cost: 0.45413369475670695\n",
      "Cost: 0.4495354310818955\n",
      "Cost: 0.446957937909601\n",
      "Cost: 0.4454248340796266\n",
      "Cost: 0.4444539975617424\n",
      "Cost: 0.4438001817247758\n",
      "Cost: 0.4433339021805278\n",
      "Cost: 0.4429841803861409\n",
      "Cost: 0.4427106808671609\n",
      "Cost: 0.4424896453545261\n",
      "Cost: 0.44230654448912887\n",
      "Cost: 0.44215212511710383\n",
      "Cost: 0.44202023110759053\n",
      "Cost: 0.4419065760173037\n"
     ]
    },
    {
     "data": {
      "text/plain": [
       "(array([-1.20505765,  2.58128966, -0.54238664, -0.32677411, -0.06473966,\n",
       "         0.07069874,  0.20464911]),\n",
       " -1.424043535876054)"
      ]
     },
     "execution_count": 12,
     "metadata": {},
     "output_type": "execute_result"
    }
   ],
   "source": [
    "w = np.ones(7)\n",
    "w.reshape(7, 1)\n",
    "    # np.shape(w)\n",
    "b = 0\n",
    "w, b = train(w, x, b, out_y, 0.095)\n",
    "w, b"
   ]
  },
  {
   "cell_type": "markdown",
   "id": "05575e84",
   "metadata": {
    "papermill": {
     "duration": 0.00689,
     "end_time": "2023-03-06T07:16:35.047702",
     "exception": false,
     "start_time": "2023-03-06T07:16:35.040812",
     "status": "completed"
    },
    "tags": []
   },
   "source": [
    "with \n",
    "aplha = 0.009, cost = 0.4464671762915648\n",
    "\n",
    "aplha = 0.005, cost = 0.44978276046635995\n",
    "\n",
    "aplha = 0.003, cost = 0.45192283819623147\n",
    "\n",
    "aplha = 0.001, cost = 0.4615073691100471\n",
    "clearly seen, decreasing alpha wont decrese cost always :)\n",
    "\n",
    "\n",
    "so optimal alpha = 0.009\n",
    "\n",
    "for this dataset"
   ]
  },
  {
   "cell_type": "code",
   "execution_count": 13,
   "id": "4d7f6bda",
   "metadata": {
    "execution": {
     "iopub.execute_input": "2023-03-06T07:16:35.064620Z",
     "iopub.status.busy": "2023-03-06T07:16:35.062909Z",
     "iopub.status.idle": "2023-03-06T07:16:35.069095Z",
     "shell.execute_reply": "2023-03-06T07:16:35.068182Z"
    },
    "papermill": {
     "duration": 0.016201,
     "end_time": "2023-03-06T07:16:35.071120",
     "exception": false,
     "start_time": "2023-03-06T07:16:35.054919",
     "status": "completed"
    },
    "tags": []
   },
   "outputs": [],
   "source": [
    "def predict(in_x):\n",
    "    in_x = f(w, in_x, b)\n",
    "    in_x = np.round(in_x)\n",
    "    return in_x"
   ]
  },
  {
   "cell_type": "markdown",
   "id": "9afd3c1a",
   "metadata": {
    "papermill": {
     "duration": 0.006766,
     "end_time": "2023-03-06T07:16:35.085449",
     "exception": false,
     "start_time": "2023-03-06T07:16:35.078683",
     "status": "completed"
    },
    "tags": []
   },
   "source": [
    "Now, testing part"
   ]
  },
  {
   "cell_type": "code",
   "execution_count": 14,
   "id": "4569f7fd",
   "metadata": {
    "execution": {
     "iopub.execute_input": "2023-03-06T07:16:35.101552Z",
     "iopub.status.busy": "2023-03-06T07:16:35.100719Z",
     "iopub.status.idle": "2023-03-06T07:16:35.129809Z",
     "shell.execute_reply": "2023-03-06T07:16:35.127873Z"
    },
    "papermill": {
     "duration": 0.040449,
     "end_time": "2023-03-06T07:16:35.132853",
     "exception": false,
     "start_time": "2023-03-06T07:16:35.092404",
     "status": "completed"
    },
    "tags": []
   },
   "outputs": [
    {
     "name": "stdout",
     "output_type": "stream",
     "text": [
      "PassengerId     0\n",
      "Pclass          0\n",
      "Sex             0\n",
      "Age            86\n",
      "SibSp           0\n",
      "Parch           0\n",
      "Fare            1\n",
      "Embarked        0\n",
      "dtype: int64\n",
      "PassengerId    0\n",
      "Pclass         0\n",
      "Sex            0\n",
      "Age            0\n",
      "SibSp          0\n",
      "Parch          0\n",
      "Fare           0\n",
      "Embarked       0\n",
      "dtype: int64\n",
      "   PassengerId  Pclass  Sex       Age  SibSp  Parch      Fare  Embarked\n",
      "0          892       3    1  0.385769      0      0 -0.496818         3\n",
      "1          893       3    2  1.369729      1      0 -0.511665         1\n",
      "2          894       2    1  2.550481      0      0 -0.463545         3\n",
      "3          895       3    1 -0.204607      0      0 -0.481898         1\n",
      "4          896       3    2 -0.598191      1      1 -0.416992         1\n"
     ]
    },
    {
     "name": "stderr",
     "output_type": "stream",
     "text": [
      "/opt/conda/lib/python3.7/site-packages/ipykernel_launcher.py:7: FutureWarning: Dropping of nuisance columns in DataFrame reductions (with 'numeric_only=None') is deprecated; in a future version this will raise TypeError.  Select only valid columns before calling the reduction.\n",
      "  import sys\n"
     ]
    }
   ],
   "source": [
    "test_data = pd.read_csv('/kaggle/input/titanic/test.csv')\n",
    "numerical_data_colums2 = ['PassengerId', 'Pclass', 'Sex', 'Age', 'SibSp', 'Parch', 'Fare', 'Embarked']\n",
    "test_data = test_data.loc[:,numerical_data_colums2]\n",
    "\n",
    "print(test_data.isnull().sum())\n",
    "# test_data.dropna(inplace=True)\n",
    "test_data.fillna(test_data.median(), inplace = True)\n",
    "\n",
    "print(test_data.isnull().sum())\n",
    "# x.head()\n",
    "test_data['Sex'] = test_data['Sex'].apply(sex_to_index)\n",
    "test_data['Embarked'] = test_data['Embarked'].apply(embarked_to_index)\n",
    "test_data['Age'] = normalize_age(test_data['Age'])\n",
    "test_data['Fare'] = normalize_fare(test_data['Fare'])\n",
    "print(test_data.head())"
   ]
  },
  {
   "cell_type": "code",
   "execution_count": 15,
   "id": "6e6d12b1",
   "metadata": {
    "execution": {
     "iopub.execute_input": "2023-03-06T07:16:35.149593Z",
     "iopub.status.busy": "2023-03-06T07:16:35.148804Z",
     "iopub.status.idle": "2023-03-06T07:16:35.155407Z",
     "shell.execute_reply": "2023-03-06T07:16:35.154352Z"
    },
    "papermill": {
     "duration": 0.017115,
     "end_time": "2023-03-06T07:16:35.157718",
     "exception": false,
     "start_time": "2023-03-06T07:16:35.140603",
     "status": "completed"
    },
    "tags": []
   },
   "outputs": [],
   "source": [
    "in_x = ['Pclass', 'Sex', 'Age', 'SibSp', 'Parch', 'Fare', 'Embarked']\n",
    "in_x = test_data.loc[:, in_x]\n",
    "test_out = predict(in_x)"
   ]
  },
  {
   "cell_type": "code",
   "execution_count": 16,
   "id": "4e76bef9",
   "metadata": {
    "execution": {
     "iopub.execute_input": "2023-03-06T07:16:35.173699Z",
     "iopub.status.busy": "2023-03-06T07:16:35.173096Z",
     "iopub.status.idle": "2023-03-06T07:16:35.188177Z",
     "shell.execute_reply": "2023-03-06T07:16:35.187117Z"
    },
    "papermill": {
     "duration": 0.025068,
     "end_time": "2023-03-06T07:16:35.190261",
     "exception": false,
     "start_time": "2023-03-06T07:16:35.165193",
     "status": "completed"
    },
    "tags": []
   },
   "outputs": [
    {
     "data": {
      "text/html": [
       "<div>\n",
       "<style scoped>\n",
       "    .dataframe tbody tr th:only-of-type {\n",
       "        vertical-align: middle;\n",
       "    }\n",
       "\n",
       "    .dataframe tbody tr th {\n",
       "        vertical-align: top;\n",
       "    }\n",
       "\n",
       "    .dataframe thead th {\n",
       "        text-align: right;\n",
       "    }\n",
       "</style>\n",
       "<table border=\"1\" class=\"dataframe\">\n",
       "  <thead>\n",
       "    <tr style=\"text-align: right;\">\n",
       "      <th></th>\n",
       "      <th>PassengerId</th>\n",
       "      <th>Survived</th>\n",
       "    </tr>\n",
       "  </thead>\n",
       "  <tbody>\n",
       "    <tr>\n",
       "      <th>0</th>\n",
       "      <td>892</td>\n",
       "      <td>0</td>\n",
       "    </tr>\n",
       "    <tr>\n",
       "      <th>1</th>\n",
       "      <td>893</td>\n",
       "      <td>0</td>\n",
       "    </tr>\n",
       "    <tr>\n",
       "      <th>2</th>\n",
       "      <td>894</td>\n",
       "      <td>0</td>\n",
       "    </tr>\n",
       "    <tr>\n",
       "      <th>3</th>\n",
       "      <td>895</td>\n",
       "      <td>0</td>\n",
       "    </tr>\n",
       "    <tr>\n",
       "      <th>4</th>\n",
       "      <td>896</td>\n",
       "      <td>1</td>\n",
       "    </tr>\n",
       "    <tr>\n",
       "      <th>...</th>\n",
       "      <td>...</td>\n",
       "      <td>...</td>\n",
       "    </tr>\n",
       "    <tr>\n",
       "      <th>413</th>\n",
       "      <td>1305</td>\n",
       "      <td>0</td>\n",
       "    </tr>\n",
       "    <tr>\n",
       "      <th>414</th>\n",
       "      <td>1306</td>\n",
       "      <td>1</td>\n",
       "    </tr>\n",
       "    <tr>\n",
       "      <th>415</th>\n",
       "      <td>1307</td>\n",
       "      <td>0</td>\n",
       "    </tr>\n",
       "    <tr>\n",
       "      <th>416</th>\n",
       "      <td>1308</td>\n",
       "      <td>0</td>\n",
       "    </tr>\n",
       "    <tr>\n",
       "      <th>417</th>\n",
       "      <td>1309</td>\n",
       "      <td>0</td>\n",
       "    </tr>\n",
       "  </tbody>\n",
       "</table>\n",
       "<p>418 rows × 2 columns</p>\n",
       "</div>"
      ],
      "text/plain": [
       "     PassengerId  Survived\n",
       "0            892         0\n",
       "1            893         0\n",
       "2            894         0\n",
       "3            895         0\n",
       "4            896         1\n",
       "..           ...       ...\n",
       "413         1305         0\n",
       "414         1306         1\n",
       "415         1307         0\n",
       "416         1308         0\n",
       "417         1309         0\n",
       "\n",
       "[418 rows x 2 columns]"
      ]
     },
     "execution_count": 16,
     "metadata": {},
     "output_type": "execute_result"
    }
   ],
   "source": [
    "passenger_id = list(test_data['PassengerId'])\n",
    "\n",
    "test_out_lst = list(np.int_(test_out))\n",
    "type(test_out_lst)\n",
    "# passenger_id['Survived'] = test_out_lst\n",
    "final_out = pd.DataFrame()\n",
    "final_out['PassengerId'] = passenger_id\n",
    "final_out['Survived'] = test_out_lst\n",
    "final_out"
   ]
  },
  {
   "cell_type": "code",
   "execution_count": 17,
   "id": "fa2e7a68",
   "metadata": {
    "execution": {
     "iopub.execute_input": "2023-03-06T07:16:35.207233Z",
     "iopub.status.busy": "2023-03-06T07:16:35.206460Z",
     "iopub.status.idle": "2023-03-06T07:16:35.214037Z",
     "shell.execute_reply": "2023-03-06T07:16:35.212978Z"
    },
    "papermill": {
     "duration": 0.018436,
     "end_time": "2023-03-06T07:16:35.216250",
     "exception": false,
     "start_time": "2023-03-06T07:16:35.197814",
     "status": "completed"
    },
    "tags": []
   },
   "outputs": [],
   "source": [
    "final_out.to_csv('final_out.csv', index = False)"
   ]
  },
  {
   "cell_type": "code",
   "execution_count": 18,
   "id": "05ca50ef",
   "metadata": {
    "execution": {
     "iopub.execute_input": "2023-03-06T07:16:35.232330Z",
     "iopub.status.busy": "2023-03-06T07:16:35.231506Z",
     "iopub.status.idle": "2023-03-06T07:16:35.238752Z",
     "shell.execute_reply": "2023-03-06T07:16:35.237622Z"
    },
    "papermill": {
     "duration": 0.017709,
     "end_time": "2023-03-06T07:16:35.241186",
     "exception": false,
     "start_time": "2023-03-06T07:16:35.223477",
     "status": "completed"
    },
    "tags": []
   },
   "outputs": [
    {
     "data": {
      "text/plain": [
       "29.36158249158249"
      ]
     },
     "execution_count": 18,
     "metadata": {},
     "output_type": "execute_result"
    }
   ],
   "source": [
    "data['Age'].mean()"
   ]
  },
  {
   "cell_type": "code",
   "execution_count": null,
   "id": "b6e1a108",
   "metadata": {
    "papermill": {
     "duration": 0.0073,
     "end_time": "2023-03-06T07:16:35.256575",
     "exception": false,
     "start_time": "2023-03-06T07:16:35.249275",
     "status": "completed"
    },
    "tags": []
   },
   "outputs": [],
   "source": []
  }
 ],
 "metadata": {
  "kernelspec": {
   "display_name": "Python 3",
   "language": "python",
   "name": "python3"
  },
  "language_info": {
   "codemirror_mode": {
    "name": "ipython",
    "version": 3
   },
   "file_extension": ".py",
   "mimetype": "text/x-python",
   "name": "python",
   "nbconvert_exporter": "python",
   "pygments_lexer": "ipython3",
   "version": "3.7.12"
  },
  "papermill": {
   "default_parameters": {},
   "duration": 17.136827,
   "end_time": "2023-03-06T07:16:36.485543",
   "environment_variables": {},
   "exception": null,
   "input_path": "__notebook__.ipynb",
   "output_path": "__notebook__.ipynb",
   "parameters": {},
   "start_time": "2023-03-06T07:16:19.348716",
   "version": "2.4.0"
  }
 },
 "nbformat": 4,
 "nbformat_minor": 5
}
